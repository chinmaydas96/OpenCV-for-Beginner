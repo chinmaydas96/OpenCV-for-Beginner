{
 "cells": [
  {
   "cell_type": "code",
   "execution_count": null,
   "id": "c42e3d8b",
   "metadata": {
    "ExecuteTime": {
     "start_time": "2022-07-06T18:11:29.891Z"
    }
   },
   "outputs": [],
   "source": [
    "import matplotlib.pyplot as plt\n",
    "import numpy as np\n",
    "import cv2\n",
    "from IPython.display import Image"
   ]
  },
  {
   "cell_type": "code",
   "execution_count": null,
   "id": "ec157f18",
   "metadata": {
    "ExecuteTime": {
     "start_time": "2022-07-06T18:11:29.893Z"
    }
   },
   "outputs": [],
   "source": [
    "path = 'dog.jpeg'\n",
    "Image(path, height=400, width=400)"
   ]
  },
  {
   "cell_type": "markdown",
   "id": "d77e1182",
   "metadata": {},
   "source": [
    "# Read Image"
   ]
  },
  {
   "cell_type": "code",
   "execution_count": null,
   "id": "30ed8880",
   "metadata": {
    "ExecuteTime": {
     "start_time": "2022-07-06T18:11:29.897Z"
    }
   },
   "outputs": [],
   "source": [
    "# Read in color\n",
    "image = cv2.imread(path, cv2.IMREAD_COLOR)\n",
    "plt.imshow(image[:,:,::-1])\n",
    "plt.show()"
   ]
  },
  {
   "cell_type": "code",
   "execution_count": null,
   "id": "ad6b5d5c",
   "metadata": {
    "ExecuteTime": {
     "start_time": "2022-07-06T18:11:29.898Z"
    }
   },
   "outputs": [],
   "source": [
    "# Read as it is\n",
    "image = cv2.imread(path, cv2.IMREAD_UNCHANGED)\n",
    "plt.imshow(image[:,:,::-1])\n",
    "plt.show()"
   ]
  },
  {
   "cell_type": "code",
   "execution_count": null,
   "id": "f0efae3e",
   "metadata": {
    "ExecuteTime": {
     "start_time": "2022-07-06T18:11:29.900Z"
    }
   },
   "outputs": [],
   "source": [
    "# Read in grayscale\n",
    "image = cv2.imread(path, cv2.IMREAD_GRAYSCALE)\n",
    "plt.imshow(image, cmap='gray')\n",
    "plt.show()"
   ]
  },
  {
   "cell_type": "markdown",
   "id": "e95d9cf0",
   "metadata": {},
   "source": [
    "# Write image"
   ]
  },
  {
   "cell_type": "code",
   "execution_count": null,
   "id": "c4adae17",
   "metadata": {
    "ExecuteTime": {
     "start_time": "2022-07-06T18:11:29.903Z"
    }
   },
   "outputs": [],
   "source": [
    "# write the image \n",
    "cv2.imwrite('dog_new.jpeg', image)"
   ]
  },
  {
   "cell_type": "code",
   "execution_count": null,
   "id": "dfcd6372",
   "metadata": {
    "ExecuteTime": {
     "start_time": "2022-07-06T18:11:29.905Z"
    }
   },
   "outputs": [],
   "source": [
    "Image('dog_new.jpeg', width=400, height=400)"
   ]
  },
  {
   "cell_type": "markdown",
   "id": "6ebc0ade",
   "metadata": {},
   "source": [
    "### Shape of an imag"
   ]
  },
  {
   "cell_type": "code",
   "execution_count": null,
   "id": "2211725f",
   "metadata": {
    "ExecuteTime": {
     "start_time": "2022-07-06T18:11:29.907Z"
    }
   },
   "outputs": [],
   "source": [
    "print('width : {}\\nheight : {}'.format(image.shape[1], image.shape[0]))"
   ]
  },
  {
   "cell_type": "markdown",
   "id": "0fbdf724",
   "metadata": {},
   "source": [
    "# Change Color channel in an image"
   ]
  },
  {
   "cell_type": "code",
   "execution_count": null,
   "id": "eff49360",
   "metadata": {
    "ExecuteTime": {
     "start_time": "2022-07-06T18:11:29.910Z"
    }
   },
   "outputs": [],
   "source": [
    "image = cv2.imread(path, cv2.IMREAD_COLOR)\n",
    "plt.imshow(image)\n",
    "plt.show()"
   ]
  },
  {
   "cell_type": "markdown",
   "id": "07bd5ffe",
   "metadata": {},
   "source": [
    "### Change BGR to RGB"
   ]
  },
  {
   "cell_type": "code",
   "execution_count": null,
   "id": "a409c7bf",
   "metadata": {
    "ExecuteTime": {
     "start_time": "2022-07-06T18:11:29.915Z"
    }
   },
   "outputs": [],
   "source": [
    "img_rgb = cv2.cvtColor(image, cv2.COLOR_BGR2RGB)\n",
    "plt.imshow(img_rgb)\n",
    "plt.show()"
   ]
  },
  {
   "cell_type": "code",
   "execution_count": null,
   "id": "d67b49c1",
   "metadata": {
    "ExecuteTime": {
     "start_time": "2022-07-06T18:11:29.917Z"
    }
   },
   "outputs": [],
   "source": [
    "img_gray = cv2.cvtColor(image, cv2.COLOR_BGR2GRAY)\n",
    "plt.imshow(img_gray, cmap='gray')\n",
    "plt.show()"
   ]
  },
  {
   "cell_type": "markdown",
   "id": "21ed176a",
   "metadata": {},
   "source": [
    "# Splitting and Merging"
   ]
  },
  {
   "cell_type": "code",
   "execution_count": null,
   "id": "426ab184",
   "metadata": {
    "ExecuteTime": {
     "start_time": "2022-07-06T18:11:29.920Z"
    }
   },
   "outputs": [],
   "source": [
    "image = cv2.imread(path, cv2.IMREAD_UNCHANGED)\n",
    "b, g, r = cv2.split(image)\n",
    "\n",
    "plt.figure(figsize=(15, 8))\n",
    "\n",
    "plt.subplot(141)\n",
    "plt.imshow(b, cmap='gray')\n",
    "plt.title('Blue Channel')\n",
    "\n",
    "plt.subplot(142)\n",
    "plt.imshow(g, cmap='gray')\n",
    "plt.title('Green Channel')\n",
    "\n",
    "plt.subplot(143)\n",
    "plt.imshow(r, cmap='gray')\n",
    "plt.title('Red Channel')\n",
    "\n",
    "plt.subplot(144)\n",
    "img_r = cv2.merge([b,g,r])\n",
    "plt.imshow(img_r[:,:,::-1])\n",
    "plt.show()"
   ]
  },
  {
   "cell_type": "code",
   "execution_count": null,
   "id": "1f7f2586",
   "metadata": {
    "ExecuteTime": {
     "start_time": "2022-07-06T18:11:29.922Z"
    }
   },
   "outputs": [],
   "source": [
    "### image to hsv\n",
    "\n",
    "img_hsv = cv2.cvtColor(image, cv2.COLOR_BGR2HSV)\n",
    "\n",
    "plt.figure(figsize=(15, 8))\n",
    "h, s, v = cv2.split(img_hsv)\n",
    "\n",
    "plt.subplot(141)\n",
    "plt.imshow(h, cmap='gray')\n",
    "plt.title('Hue Channel')\n",
    "\n",
    "plt.subplot(142)\n",
    "plt.imshow(s, cmap='gray')\n",
    "plt.title('Saturation Channel')\n",
    "\n",
    "plt.subplot(143)\n",
    "plt.imshow(v, cmap='gray')\n",
    "plt.title('value Channel')\n",
    "\n",
    "plt.subplot(144)\n",
    "img_hsv_1 = cv2.merge([h,s,v])\n",
    "plt.imshow(image[:,:,::-1])\n",
    "plt.show()"
   ]
  },
  {
   "cell_type": "markdown",
   "id": "15a50724",
   "metadata": {},
   "source": [
    "# Image Cropping and Resizing"
   ]
  },
  {
   "cell_type": "code",
   "execution_count": null,
   "id": "6ab8ceeb",
   "metadata": {
    "ExecuteTime": {
     "start_time": "2022-07-06T18:11:29.924Z"
    }
   },
   "outputs": [],
   "source": [
    "cropped_region = image[250:1400, 700:1500]\n",
    "plt.imshow(cropped_region[:,:,::-1])\n",
    "plt.show()"
   ]
  },
  {
   "cell_type": "code",
   "execution_count": null,
   "id": "241959ca",
   "metadata": {
    "ExecuteTime": {
     "start_time": "2022-07-06T18:11:29.925Z"
    }
   },
   "outputs": [],
   "source": [
    "img_resize = cv2.resize(cropped_region, dsize=(300, 400))\n",
    "print(img_resize.shape)\n",
    "plt.imshow(img_resize[:,:,::-1])\n",
    "plt.show()"
   ]
  },
  {
   "cell_type": "code",
   "execution_count": null,
   "id": "97d35fb0",
   "metadata": {
    "ExecuteTime": {
     "start_time": "2022-07-06T18:11:29.927Z"
    }
   },
   "outputs": [],
   "source": [
    "cropped_region.shape"
   ]
  },
  {
   "cell_type": "code",
   "execution_count": null,
   "id": "ec83284e",
   "metadata": {
    "ExecuteTime": {
     "start_time": "2022-07-06T18:11:29.931Z"
    }
   },
   "outputs": [],
   "source": [
    "cropped_region.shape[0]"
   ]
  },
  {
   "cell_type": "code",
   "execution_count": null,
   "id": "13d2fa96",
   "metadata": {
    "ExecuteTime": {
     "start_time": "2022-07-06T18:11:29.933Z"
    }
   },
   "outputs": [],
   "source": [
    "desired_width = 500\n",
    "desired_height =int((cropped_region.shape[0] / cropped_region.shape[1] ) * desired_width)\n",
    "\n",
    "img_resize = cv2.resize(cropped_region, dsize=(desired_width, desired_height))\n",
    "print(img_resize.shape)\n",
    "plt.imshow(img_resize[:,:,::-1])"
   ]
  },
  {
   "cell_type": "code",
   "execution_count": null,
   "id": "63e9eb32",
   "metadata": {
    "ExecuteTime": {
     "start_time": "2022-07-06T18:11:29.936Z"
    }
   },
   "outputs": [],
   "source": [
    "img_resize_1 = cv2.resize(cropped_region, None, fx=2,fy=2)\n",
    "plt.imshow(img_resize_1[:,:,::-1])"
   ]
  },
  {
   "cell_type": "markdown",
   "id": "24b64860",
   "metadata": {},
   "source": [
    "### Flipping image"
   ]
  },
  {
   "cell_type": "code",
   "execution_count": null,
   "id": "91df2ad1",
   "metadata": {
    "ExecuteTime": {
     "start_time": "2022-07-06T18:11:29.939Z"
    }
   },
   "outputs": [],
   "source": [
    "img_flip_1 = cv2.flip(img_resize_1, 1)\n",
    "plt.imshow(img_flip_1[:,:,::-1])"
   ]
  },
  {
   "cell_type": "markdown",
   "id": "9aa9a552",
   "metadata": {},
   "source": [
    "# Annotating image"
   ]
  },
  {
   "cell_type": "code",
   "execution_count": null,
   "id": "1a867e39",
   "metadata": {
    "ExecuteTime": {
     "start_time": "2022-07-06T18:11:29.942Z"
    }
   },
   "outputs": [],
   "source": [
    "img = cv2.imread(path, cv2.IMREAD_COLOR)\n",
    "plt.imshow(img[:,:,::-1])"
   ]
  },
  {
   "cell_type": "code",
   "execution_count": null,
   "id": "f6bb623d",
   "metadata": {
    "ExecuteTime": {
     "start_time": "2022-07-06T18:11:29.944Z"
    }
   },
   "outputs": [],
   "source": [
    "yellow  = (0, 255, 255)\n",
    "red     = (0, 0, 255)\n",
    "magenta = (255, 0, 255)\n",
    "green   = (0, 255, 0)\n",
    "white = (255,255,255)"
   ]
  },
  {
   "cell_type": "markdown",
   "id": "b01beffb",
   "metadata": {},
   "source": [
    "### Line"
   ]
  },
  {
   "cell_type": "code",
   "execution_count": null,
   "id": "c96373d5",
   "metadata": {
    "ExecuteTime": {
     "start_time": "2022-07-06T18:11:29.948Z"
    }
   },
   "outputs": [],
   "source": [
    "plt.imshow(cv2.line(img, (0,1300), (1500,1300), red, thickness=5, lineType=cv2.LINE_AA)[:,:,::-1])"
   ]
  },
  {
   "cell_type": "markdown",
   "id": "c3d9460f",
   "metadata": {},
   "source": [
    "### Circle"
   ]
  },
  {
   "cell_type": "code",
   "execution_count": null,
   "id": "2059bc01",
   "metadata": {
    "ExecuteTime": {
     "start_time": "2022-07-06T18:11:29.950Z"
    }
   },
   "outputs": [],
   "source": [
    "plt.imshow(cv2.circle(img, (500, 200), 100, white, thickness=90, lineType=cv2.LINE_AA)[:,:,::-1])"
   ]
  },
  {
   "cell_type": "markdown",
   "id": "3c685529",
   "metadata": {},
   "source": [
    "### Rectangle"
   ]
  },
  {
   "cell_type": "code",
   "execution_count": null,
   "id": "320b1a42",
   "metadata": {
    "ExecuteTime": {
     "start_time": "2022-07-06T18:11:29.952Z"
    }
   },
   "outputs": [],
   "source": [
    "img = cv2.imread(path, cv2.IMREAD_COLOR)\n",
    "plt.imshow(cv2.rectangle(img, (800, 300), (1350, 800), green, thickness=10, lineType=cv2.LINE_AA)[:,:,::-1])"
   ]
  },
  {
   "cell_type": "code",
   "execution_count": null,
   "id": "b26eadcd",
   "metadata": {
    "ExecuteTime": {
     "start_time": "2022-07-06T18:11:29.955Z"
    }
   },
   "outputs": [],
   "source": [
    "cv2.circle(img, (800, 300), 20, white, thickness=20, lineType=cv2.LINE_AA)[:,:,::-1]\n",
    "plt.imshow(cv2.circle(img, (1350, 800), 20, white, thickness=20, lineType=cv2.LINE_AA)[:,:,::-1])"
   ]
  },
  {
   "cell_type": "markdown",
   "id": "078ecef9",
   "metadata": {},
   "source": [
    "### Text"
   ]
  },
  {
   "cell_type": "code",
   "execution_count": null,
   "id": "5b71bfd0",
   "metadata": {
    "ExecuteTime": {
     "start_time": "2022-07-06T18:11:29.957Z"
    }
   },
   "outputs": [],
   "source": [
    "black = (0,0,0)"
   ]
  },
  {
   "cell_type": "code",
   "execution_count": null,
   "id": "225885ad",
   "metadata": {
    "ExecuteTime": {
     "start_time": "2022-07-06T18:11:29.961Z"
    }
   },
   "outputs": [],
   "source": [
    "img = cv2.imread(path, cv2.IMREAD_COLOR)\n",
    "font_face = cv2.FONT_HERSHEY_SIMPLEX\n",
    "font_scale = 8\n",
    "font_color = red\n",
    "font_thickness = 10\n",
    "plt.imshow(cv2.putText(img, text='My Dog', org=(700, 1400), \n",
    "                       fontFace=font_face, fontScale=font_scale, color=font_color, \n",
    "                       thickness=font_thickness, lineType=cv2.LINE_AA)[:,:,::-1])"
   ]
  },
  {
   "cell_type": "code",
   "execution_count": null,
   "id": "2ce84c27",
   "metadata": {},
   "outputs": [],
   "source": []
  },
  {
   "cell_type": "code",
   "execution_count": null,
   "id": "57bc3a2b",
   "metadata": {},
   "outputs": [],
   "source": []
  },
  {
   "cell_type": "markdown",
   "id": "e6b49698",
   "metadata": {},
   "source": [
    "# Final result"
   ]
  },
  {
   "cell_type": "code",
   "execution_count": null,
   "id": "8f38091e",
   "metadata": {
    "ExecuteTime": {
     "start_time": "2022-07-06T18:11:29.969Z"
    }
   },
   "outputs": [],
   "source": [
    "img = cv2.imread(path, cv2.IMREAD_COLOR)\n",
    "font_face = cv2.FONT_HERSHEY_SIMPLEX\n",
    "font_scale = 8\n",
    "font_color = red\n",
    "font_thickness = 10\n",
    "\n",
    "cv2.line(img, (0,1400), (1950,1400), red, thickness=5, lineType=cv2.LINE_AA)[:,:,::-1]\n",
    "\n",
    "cv2.circle(img, (500, 200), 100, white, thickness=90, lineType=cv2.LINE_AA)[:,:,::-1]\n",
    "\n",
    "cv2.rectangle(img, (800, 300), (1350, 800), green, thickness=10, lineType=cv2.LINE_AA)[:,:,::-1]\n",
    "\n",
    "cv2.circle(img, (800, 300), 20, white, thickness=20, lineType=cv2.LINE_AA)[:,:,::-1]\n",
    "cv2.circle(img, (1350, 800), 20, white, thickness=20, lineType=cv2.LINE_AA)[:,:,::-1]\n",
    "\n",
    "plt.imshow(cv2.putText(img, text='My Dog', org=(700, 1400), \n",
    "                       fontFace=font_face, fontScale=font_scale, color=font_color, \n",
    "                       thickness=font_thickness, lineType=cv2.LINE_AA)[:,:,::-1])\n",
    "plt.show()"
   ]
  },
  {
   "cell_type": "code",
   "execution_count": null,
   "id": "a11d5524",
   "metadata": {
    "ExecuteTime": {
     "start_time": "2022-07-06T18:11:29.970Z"
    }
   },
   "outputs": [],
   "source": [
    "cv2.imwrite('new_dog.jpeg', img)"
   ]
  },
  {
   "cell_type": "code",
   "execution_count": null,
   "id": "59cf99c3",
   "metadata": {
    "ExecuteTime": {
     "start_time": "2022-07-06T18:11:29.972Z"
    }
   },
   "outputs": [],
   "source": [
    "Image('new_dog.jpeg')"
   ]
  }
 ],
 "metadata": {
  "kernelspec": {
   "display_name": "Python 3 (ipykernel)",
   "language": "python",
   "name": "python3"
  },
  "language_info": {
   "codemirror_mode": {
    "name": "ipython",
    "version": 3
   },
   "file_extension": ".py",
   "mimetype": "text/x-python",
   "name": "python",
   "nbconvert_exporter": "python",
   "pygments_lexer": "ipython3",
   "version": "3.9.12"
  }
 },
 "nbformat": 4,
 "nbformat_minor": 5
}
